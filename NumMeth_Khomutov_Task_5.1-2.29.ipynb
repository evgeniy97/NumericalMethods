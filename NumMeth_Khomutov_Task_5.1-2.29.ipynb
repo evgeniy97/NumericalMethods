{
 "cells": [
  {
   "cell_type": "code",
   "execution_count": 21,
   "metadata": {
    "collapsed": true
   },
   "outputs": [],
   "source": [
    "import numpy as np\n",
    "from math import sqrt"
   ]
  },
  {
   "cell_type": "code",
   "execution_count": 12,
   "metadata": {
    "collapsed": true
   },
   "outputs": [],
   "source": [
    "epselon = 10**-6\n",
    "A = np.array([[5.94, 0.8, 0.6, -3.96, 0.2, 0.3],\n",
    "     [2.97, 6.4, 0, -2.97, 0.2, 0.2],\n",
    "     [2.97, 3.5, 8.7, 1.98, 0.2, 0],\n",
    "     [4.95, 1.6, 1.2, -8.91, 0.8, 0.3],\n",
    "     [-0.99, 2.5, 1.1, -3.96, 9, 0.4],\n",
    "     [5.94, 1.4, 2.4, 0, 3.2, 13]\n",
    "    ])\n",
    "b = np.array([[22.08],[29.99],[38.7],[37.19],[36.74],[67.34]])\n"
   ]
  },
  {
   "cell_type": "code",
   "execution_count": 19,
   "metadata": {},
   "outputs": [
    {
     "data": {
      "text/plain": [
       "array([[ 1.29292929],\n",
       "       [ 2.9       ],\n",
       "       [ 3.3       ],\n",
       "       [-2.21212121],\n",
       "       [ 1.9       ],\n",
       "       [ 3.2       ]])"
      ]
     },
     "execution_count": 19,
     "metadata": {},
     "output_type": "execute_result"
    }
   ],
   "source": [
    "ExactX = np.linalg.solve(A,b)\n",
    "ExactX"
   ]
  },
  {
   "cell_type": "code",
   "execution_count": 17,
   "metadata": {
    "collapsed": true
   },
   "outputs": [],
   "source": [
    "def GaussMethod(matrix, right):\n",
    "    A = np.copy(matrix)\n",
    "    b = np.copy(right)\n",
    "    n = len(A)\n",
    "    \n",
    "    if (n != len(b)) and (np.shape(A)[0] != np.shape(A)[1]):\n",
    "        print(\"У меня лапки, ничего не могу\")\n",
    "        return 0\n",
    "    #Forward\n",
    "    for i in range(n - 1):\n",
    "        for j in range(i + 1, n):\n",
    "            mu = A[j, i]/A[i, i]\n",
    "            A[j] -= A[i]*mu\n",
    "            b[j] -= b[i]*mu\n",
    "    \n",
    "    #Backward\n",
    "    for i in range(n - 1, 0, -1):\n",
    "        for j in range(i - 1, -1, -1):\n",
    "            mu = A[j, i]/A[i, i]\n",
    "            A[j] -= A[i]*mu\n",
    "            b[j] -= b[i]*mu\n",
    "\n",
    "    return np.array([b[i]/A[i, i] for i in range(n)])"
   ]
  },
  {
   "cell_type": "code",
   "execution_count": 20,
   "metadata": {
    "scrolled": true
   },
   "outputs": [
    {
     "data": {
      "text/plain": [
       "array([[ 1.29292929],\n",
       "       [ 2.9       ],\n",
       "       [ 3.3       ],\n",
       "       [-2.21212121],\n",
       "       [ 1.9       ],\n",
       "       [ 3.2       ]])"
      ]
     },
     "execution_count": 20,
     "metadata": {},
     "output_type": "execute_result"
    }
   ],
   "source": [
    "GaussX = GaussMethod(A,b)\n",
    "GaussX"
   ]
  },
  {
   "cell_type": "code",
   "execution_count": 26,
   "metadata": {
    "collapsed": true
   },
   "outputs": [],
   "source": [
    "def SeidelGivenN(A, b, x0, N):\n",
    "    n = len(A)\n",
    "    x = np.copy(x0)\n",
    "\n",
    "    for k in range(N):\n",
    "        x_new = np.copy(x)\n",
    "        for i in range(n):\n",
    "            s1 = sum(A[i][j] * x_new[j] for j in range(i))\n",
    "            s2 = sum(A[i][j] * x[j] for j in range(i + 1, n))\n",
    "            x_new[i] = (b[i] - s1 - s2) / A[i][i]\n",
    "        x = x_new\n",
    "\n",
    "    return x"
   ]
  },
  {
   "cell_type": "code",
   "execution_count": null,
   "metadata": {
    "collapsed": true
   },
   "outputs": [],
   "source": [
    "zerovector = np.zeros(len(b))\n",
    "zerovector"
   ]
  },
  {
   "cell_type": "code",
   "execution_count": 29,
   "metadata": {},
   "outputs": [
    {
     "data": {
      "text/plain": [
       "array([ 1.29371375,  2.90010253,  3.29944323, -2.21169579,  1.90035009,\n",
       "        3.19964713])"
      ]
     },
     "execution_count": 29,
     "metadata": {},
     "output_type": "execute_result"
    }
   ],
   "source": [
    "SeidelGivenNX1 = SeidelGivenN(A,b,zerovector,10)\n",
    "SeidelGivenNX1"
   ]
  },
  {
   "cell_type": "code",
   "execution_count": 30,
   "metadata": {},
   "outputs": [
    {
     "data": {
      "text/plain": [
       "[1.0, 1.0, 1.0, 1.0, 1.0, 1.0]"
      ]
     },
     "execution_count": 30,
     "metadata": {},
     "output_type": "execute_result"
    }
   ],
   "source": [
    "onevector = [1. for i in range(len(b))]\n",
    "onevector"
   ]
  },
  {
   "cell_type": "code",
   "execution_count": 31,
   "metadata": {},
   "outputs": [
    {
     "data": {
      "text/plain": [
       "array([ 1.29392309,  2.90012989,  3.29929465, -2.21158226,  1.90044352,\n",
       "        3.19955297])"
      ]
     },
     "execution_count": 31,
     "metadata": {},
     "output_type": "execute_result"
    }
   ],
   "source": [
    "SeidelGivenNX2 = SeidelGivenN(A,b,onevector,10)\n",
    "SeidelGivenNX2"
   ]
  },
  {
   "cell_type": "code",
   "execution_count": 57,
   "metadata": {},
   "outputs": [
    {
     "name": "stdout",
     "output_type": "stream",
     "text": [
      "0.0011678797196\n",
      "0.00147954382527\n"
     ]
    }
   ],
   "source": [
    "print(np.linalg.norm((ExactX.transpose() - SeidelGivenNX1),ord=2))\n",
    "print(np.linalg.norm((ExactX.transpose() - SeidelGivenNX2),ord=2))"
   ]
  },
  {
   "cell_type": "code",
   "execution_count": 58,
   "metadata": {
    "collapsed": true
   },
   "outputs": [],
   "source": [
    "def SeidelGivenEpselon(A, b, eps):\n",
    "    n = len(A)\n",
    "    x = [.0 for i in range(n)]\n",
    "    N = 0\n",
    "    converge = False\n",
    "    while not converge:\n",
    "        x_new = np.copy(x)\n",
    "        for i in range(n):\n",
    "            s1 = sum(A[i][j] * x_new[j] for j in range(i))\n",
    "            s2 = sum(A[i][j] * x[j] for j in range(i + 1, n))\n",
    "            x_new[i] = (b[i] - s1 - s2) / A[i][i]\n",
    "\n",
    "        converge = sqrt(sum((x_new[i] - x[i]) ** 2 for i in range(n))) <= eps\n",
    "        N = N + 1\n",
    "        x = x_new\n",
    "\n",
    "    return x, N"
   ]
  },
  {
   "cell_type": "code",
   "execution_count": 59,
   "metadata": {},
   "outputs": [
    {
     "data": {
      "text/plain": [
       "(array([ 1.29292964,  2.90000004,  3.29999976, -2.21212103,  1.90000015,\n",
       "         3.19999985]), 19)"
      ]
     },
     "execution_count": 59,
     "metadata": {},
     "output_type": "execute_result"
    }
   ],
   "source": [
    "SeidelGivenEpselon(A,b,epselon)"
   ]
  },
  {
   "cell_type": "code",
   "execution_count": null,
   "metadata": {
    "collapsed": true
   },
   "outputs": [],
   "source": []
  }
 ],
 "metadata": {
  "kernelspec": {
   "display_name": "Python 3",
   "language": "python",
   "name": "python3"
  },
  "language_info": {
   "codemirror_mode": {
    "name": "ipython",
    "version": 3
   },
   "file_extension": ".py",
   "mimetype": "text/x-python",
   "name": "python",
   "nbconvert_exporter": "python",
   "pygments_lexer": "ipython3",
   "version": "3.6.3"
  }
 },
 "nbformat": 4,
 "nbformat_minor": 2
}
