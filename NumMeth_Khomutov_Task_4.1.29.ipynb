{
 "cells": [
  {
   "cell_type": "code",
   "execution_count": 1,
   "metadata": {
    "collapsed": true
   },
   "outputs": [],
   "source": [
    "from sympy.solvers import solve\n",
    "from sympy import Symbol, diff, sqrt,cos,sin\n",
    "from scipy.misc import derivative\n",
    "import matplotlib.pyplot as plt\n",
    "%matplotlib inline\n",
    "import numpy as np"
   ]
  },
  {
   "cell_type": "code",
   "execution_count": 9,
   "metadata": {
    "collapsed": true
   },
   "outputs": [],
   "source": [
    "epselon = 10**(-6)\n",
    "def f(x1,x2):\n",
    "    return np.cos(x2-1)+x1-0.8\n",
    "def g(x1,x2):\n",
    "    return x2-np.cos(x1)-2"
   ]
  },
  {
   "cell_type": "code",
   "execution_count": 27,
   "metadata": {},
   "outputs": [],
   "source": [
    "def Fx(x,y):\n",
    "    return 1\n",
    "def Fy(x,y):\n",
    "    return np.sin(1-y)\n",
    "def Gx(x,y):\n",
    "    return np.sin(x)\n",
    "def Gy(x,y):\n",
    "    return 1\n",
    "\n",
    "def dd(x,y):\n",
    "    return Fx(x,y)*Gy(x,y)-Fy(x,y)*Gx(x,y)\n",
    "\n",
    "def ddx(x,y):\n",
    "    return f(x,y)*Gy(x,y)-g(x,y)*Fy(x,y)\n",
    "\n",
    "def ddy(x,y):\n",
    "    return Fx(x,y)*g(x,y)-Gx(x,y)*f(x,y)\n",
    "    "
   ]
  },
  {
   "cell_type": "code",
   "execution_count": 29,
   "metadata": {},
   "outputs": [],
   "source": [
    "def NewtoonMethod(x,y):\n",
    "    x_old = x\n",
    "    y_old = y\n",
    "    n = 1\n",
    "    x_new = x_old - ddx(x_old,y_old)/dd(x_old,y_old)\n",
    "    y_new = y_old - ddy(x_old,y_old)/dd(x_old,y_old)\n",
    "    while np.linalg.norm([x_new-x_old,y_new-y_old]) > epselon:\n",
    "        x_old = x_new\n",
    "        y_old = y_new\n",
    "        x_new = x_old - ddx(x_old,y_old)/dd(x_old,y_old)\n",
    "        y_new = y_old - ddy(x_old,y_old)/dd(x_old,y_old)\n",
    "        n = n + 1\n",
    "    return [x_new,y_new], n"
   ]
  },
  {
   "cell_type": "code",
   "execution_count": 30,
   "metadata": {},
   "outputs": [
    {
     "data": {
      "text/plain": [
       "([0.87224764939844168, 2.6431069764031054], 6)"
      ]
     },
     "execution_count": 30,
     "metadata": {},
     "output_type": "execute_result"
    }
   ],
   "source": [
    "NewtoonMethod(1,1)"
   ]
  },
  {
   "cell_type": "code",
   "execution_count": null,
   "metadata": {
    "collapsed": true
   },
   "outputs": [],
   "source": []
  }
 ],
 "metadata": {
  "kernelspec": {
   "display_name": "Python 3",
   "language": "python",
   "name": "python3"
  },
  "language_info": {
   "codemirror_mode": {
    "name": "ipython",
    "version": 3
   },
   "file_extension": ".py",
   "mimetype": "text/x-python",
   "name": "python",
   "nbconvert_exporter": "python",
   "pygments_lexer": "ipython3",
   "version": "3.6.3"
  }
 },
 "nbformat": 4,
 "nbformat_minor": 2
}
