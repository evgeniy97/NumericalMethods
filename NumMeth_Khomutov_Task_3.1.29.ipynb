{
 "cells": [
  {
   "cell_type": "code",
   "execution_count": 2,
   "metadata": {
    "collapsed": true
   },
   "outputs": [],
   "source": [
    "import numpy as np\n",
    "from numpy import cos\n",
    "import matplotlib.pyplot as plt\n",
    "%matplotlib inline"
   ]
  },
  {
   "cell_type": "code",
   "execution_count": 3,
   "metadata": {
    "collapsed": true
   },
   "outputs": [],
   "source": [
    "N = 3.29\n",
    "epsilon = 10**(-5)\n",
    "\n",
    "def c(i, j):\n",
    "    return 0.1*N*i*j\n",
    "\n",
    "def a(i, j):\n",
    "    return float(10/(0.3*c(i,j)**3+10*c(i,j)))"
   ]
  },
  {
   "cell_type": "code",
   "execution_count": 4,
   "metadata": {
    "scrolled": true
   },
   "outputs": [
    {
     "name": "stdout",
     "output_type": "stream",
     "text": [
      "[[ 3.02967562  1.50026995  0.98440201  0.72234832  0.56225819  0.45356387]\n",
      " [ 1.50026995  0.72234832  0.45356387  0.31456538  0.22944523  0.17258968]\n",
      " [ 0.98440201  0.45356387  0.26739263  0.17258968  0.1170872   0.08228725]\n",
      " [ 0.72234832  0.31456538  0.17258968  0.10373535  0.06610823  0.04412145]\n",
      " [ 0.56225819  0.22944523  0.1170872   0.06610823  0.04013197  0.02582969]\n",
      " [ 0.45356387  0.17258968  0.08228725  0.04412145  0.02582969  0.0162105 ]]\n",
      "(6, 6)\n"
     ]
    }
   ],
   "source": [
    "A = np.array([[a(i, j) for i in range(1, 7)] for j in range(1, 7)])\n",
    "print(A)\n",
    "print(np.shape(A))"
   ]
  },
  {
   "cell_type": "code",
   "execution_count": 5,
   "metadata": {},
   "outputs": [
    {
     "name": "stdout",
     "output_type": "stream",
     "text": [
      "[ 3.29  3.29  3.29  3.29  3.29  3.29]\n"
     ]
    }
   ],
   "source": [
    "b = np.array([N for i in range(6)])\n",
    "print(b)"
   ]
  },
  {
   "cell_type": "code",
   "execution_count": 6,
   "metadata": {
    "collapsed": true
   },
   "outputs": [],
   "source": [
    "def Gauss(matrix, right):\n",
    "    A = np.copy(matrix)\n",
    "    b = np.copy(right)\n",
    "    n = len(A)\n",
    "    \n",
    "    if (n != len(b)) and (np.shape(A)[0] != np.shape(A)[1]):\n",
    "        print(\"У меня лапки, ничего не могу\")\n",
    "        return 0\n",
    "    #Forward\n",
    "    for i in range(n - 1):\n",
    "        for j in range(i + 1, n):\n",
    "            mu = A[j, i]/A[i, i]\n",
    "            A[j] -= A[i]*mu\n",
    "            b[j] -= b[i]*mu\n",
    "    \n",
    "    #Backward\n",
    "    for i in range(n - 1, 0, -1):\n",
    "        for j in range(i - 1, -1, -1):\n",
    "            mu = A[j, i]/A[i, i]\n",
    "            A[j] -= A[i]*mu\n",
    "            b[j] -= b[i]*mu\n",
    "\n",
    "    return np.array([b[i]/A[i, i] for i in range(n)])"
   ]
  },
  {
   "cell_type": "code",
   "execution_count": 7,
   "metadata": {},
   "outputs": [
    {
     "data": {
      "text/plain": [
       "array([  48.70542219, -230.40915624,  526.68541417, -845.63333472,\n",
       "        773.68974462, -311.39485309])"
      ]
     },
     "execution_count": 7,
     "metadata": {},
     "output_type": "execute_result"
    }
   ],
   "source": [
    "sol = Gauss(A, b)\n",
    "sol"
   ]
  },
  {
   "cell_type": "code",
   "execution_count": 8,
   "metadata": {},
   "outputs": [
    {
     "data": {
      "text/plain": [
       "1664604.6582489754"
      ]
     },
     "execution_count": 8,
     "metadata": {},
     "output_type": "execute_result"
    }
   ],
   "source": [
    "#cond = np.linalg.norm(A, ord=np.inf) * np.linalg.norm(np.linalg.inv(A), ord=np.inf)\n",
    "cond = np.linalg.cond(A, p=np.inf)\n",
    "cond"
   ]
  },
  {
   "cell_type": "code",
   "execution_count": 9,
   "metadata": {
    "collapsed": true
   },
   "outputs": [],
   "source": [
    "def DeltaVector(matrix, right, delta, solution):\n",
    "    A = np.copy(matrix)\n",
    "    b = np.copy(right)\n",
    "    n = len(A)\n",
    "    d = np.zeros(n)\n",
    "    db = np.zeros(n)\n",
    "    \n",
    "    for i in range(n):\n",
    "        bi = np.copy(b)\n",
    "        bi[i] = bi[i] + delta\n",
    "        xi = Gauss(A, bi)\n",
    "        \n",
    "        d[i] = np.linalg.norm(solution - xi, ord=np.inf) / np.linalg.norm(solution, ord=np.inf)\n",
    "        db[i] = np.linalg.norm(b - bi, ord=np.inf) / np.linalg.norm(b, ord=np.inf)\n",
    "    \n",
    "    return d,db"
   ]
  },
  {
   "cell_type": "code",
   "execution_count": 10,
   "metadata": {},
   "outputs": [
    {
     "name": "stdout",
     "output_type": "stream",
     "text": [
      "[  1.85724267e-05   1.63844184e-04   5.47661267e-04   9.29352445e-04\n",
      "   7.90026430e-04   2.65417976e-04]\n",
      "[  3.03951368e-06   3.03951368e-06   3.03951368e-06   3.03951368e-06\n",
      "   3.03951368e-06   3.03951368e-06]\n"
     ]
    }
   ],
   "source": [
    "d,db = DeltaVector(A, b, epsilon, sol)\n",
    "print(d)\n",
    "print(db)"
   ]
  },
  {
   "cell_type": "code",
   "execution_count": 13,
   "metadata": {},
   "outputs": [
    {
     "data": {
      "text/plain": [
       "array([ 5.05958863,  5.05958863,  5.05958863,  5.05958863,  5.05958863,\n",
       "        5.05958863])"
      ]
     },
     "execution_count": 13,
     "metadata": {},
     "output_type": "execute_result"
    }
   ],
   "source": [
    "dx = db*cond\n",
    "dx"
   ]
  },
  {
   "cell_type": "code",
   "execution_count": 11,
   "metadata": {},
   "outputs": [
    {
     "name": "stderr",
     "output_type": "stream",
     "text": [
      "C:\\ProgramData\\Anaconda3\\lib\\site-packages\\matplotlib\\figure.py:418: UserWarning: matplotlib is currently using a non-GUI backend, so cannot show the figure\n",
      "  \"matplotlib is currently using a non-GUI backend, \"\n"
     ]
    },
    {
     "data": {
      "image/png": "[encoded data removed]",
      "text/plain": [
       "<matplotlib.figure.Figure at 0x2010c58cda0>"
      ]
     },
     "metadata": {},
     "output_type": "display_data"
    }
   ],
   "source": [
    "fig = plt.figure()\n",
    "ax = fig.add_subplot(111)\n",
    "p = ax.scatter(range(6), d)\n",
    "plt.ylim(0,0.001)\n",
    "fig.show()"
   ]
  },
  {
   "cell_type": "code",
   "execution_count": 15,
   "metadata": {},
   "outputs": [
    {
     "data": {
      "image/png": "[encoded data removed]",
      "text/plain": [
       "<matplotlib.figure.Figure at 0x2010cbb76a0>"
      ]
     },
     "metadata": {},
     "output_type": "display_data"
    }
   ],
   "source": [
    "fig = plt.figure()\n",
    "ax = fig.add_subplot(111)\n",
    "x = np.array(range(6))\n",
    "\n",
    "#p = ax.scatter(x_points, d, color='r')\n",
    "\n",
    "#ax.scatter(x_points, dx, color='g')\n",
    "\n",
    "ax.bar(x - 0.2, d, width=0.4,color='r',align='center')\n",
    "#ax.bar(x + 0.2, dx, width=0.4,color='g',align='center')\n",
    "ax.autoscale(tight=True)\n",
    "\n",
    "plt.show()"
   ]
  },
  {
   "cell_type": "code",
   "execution_count": null,
   "metadata": {
    "collapsed": true
   },
   "outputs": [],
   "source": []
  }
 ],
 "metadata": {
  "kernelspec": {
   "display_name": "Python 3",
   "language": "python",
   "name": "python3"
  },
  "language_info": {
   "codemirror_mode": {
    "name": "ipython",
    "version": 3
   },
   "file_extension": ".py",
   "mimetype": "text/x-python",
   "name": "python",
   "nbconvert_exporter": "python",
   "pygments_lexer": "ipython3",
   "version": "3.6.3"
  }
 },
 "nbformat": 4,
 "nbformat_minor": 2
}
