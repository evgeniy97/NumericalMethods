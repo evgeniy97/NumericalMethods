{
 "cells": [
  {
   "cell_type": "markdown",
   "metadata": {},
   "source": [
    "# Задание 2 Вариант 29"
   ]
  },
  {
   "cell_type": "markdown",
   "metadata": {},
   "source": [
    "Хомутов Евений Васильевич, БПМ-151"
   ]
  },
  {
   "cell_type": "code",
   "execution_count": 1,
   "metadata": {
    "collapsed": true
   },
   "outputs": [],
   "source": [
    "from sympy.solvers import solve\n",
    "from sympy import Symbol, diff, sqrt,cos,sin\n",
    "from scipy.misc import derivative\n",
    "import matplotlib.pyplot as plt\n",
    "%matplotlib inline\n",
    "import numpy as np"
   ]
  },
  {
   "cell_type": "markdown",
   "metadata": {},
   "source": [
    "Определим необходимые для решения задач методы"
   ]
  },
  {
   "cell_type": "code",
   "execution_count": 2,
   "metadata": {
    "collapsed": true
   },
   "outputs": [],
   "source": [
    "def BisecMethod(f,a,b,epselon):\n",
    "    n = 0\n",
    "    A = a\n",
    "    B = b\n",
    "    while (B-A) >= 2*epselon:\n",
    "        n = n + 1\n",
    "        x = (A+B)/2\n",
    "        if f(x)*f(A) < 0:\n",
    "            B = x\n",
    "        elif f(x)*f(B) < 0:\n",
    "            A = x\n",
    "    return x, n"
   ]
  },
  {
   "cell_type": "code",
   "execution_count": 3,
   "metadata": {
    "collapsed": true
   },
   "outputs": [],
   "source": [
    "def NewtoonMethod(f,x,epselon):\n",
    "    n = 1\n",
    "    x_old = x\n",
    "    x_new = x_old - f(x_old)/derivative(f,x_old,dx = epselon)\n",
    "    while abs(x_new - x_old) >= epselon:\n",
    "        x_old = x_new\n",
    "        x_new = x_old - f(x_old)/derivative(f,x_old,dx = epselon)\n",
    "        n = n + 1\n",
    "    return x_new, n"
   ]
  },
  {
   "cell_type": "code",
   "execution_count": 36,
   "metadata": {
    "collapsed": true
   },
   "outputs": [],
   "source": [
    "def SimpleIterationMethod(phi,f,x,q,epselon):\n",
    "    n = 1\n",
    "    x_old = x\n",
    "    x_new = phi(x_old,f)\n",
    "    while abs(x_new - x_old) >= (1 - q)/q*epselon:\n",
    "        x_old = x_new\n",
    "        x_new = phi(x_old,f)\n",
    "        n = n + 1\n",
    "    return x_new,q, n"
   ]
  },
  {
   "cell_type": "code",
   "execution_count": 5,
   "metadata": {
    "collapsed": true
   },
   "outputs": [],
   "source": [
    "x = Symbol('x') # Чтобы найти ответы встроеными методами"
   ]
  },
  {
   "cell_type": "code",
   "execution_count": 6,
   "metadata": {
    "collapsed": true
   },
   "outputs": [],
   "source": [
    "# Задание 1\n",
    "def f1(x):\n",
    "    return x**4 - 26/5 * x**2 + 1\n",
    "def g1(x):\n",
    "    return x**4 - 10 * x**2 + 25\n",
    "epselon1 = 10**(-10)\n",
    "a1 = 0\n",
    "b1 = 3\n",
    "# Задание 2\n",
    "def f2(x):\n",
    "    return np.sqrt(x)-np.cos(x)\n",
    "epselon2 = 10**(-6)\n",
    "# Задание 3\n",
    "def f3(x):\n",
    "    return x - np.e**(-x**(2))\n",
    "epselon3 = 10**(-5)"
   ]
  },
  {
   "cell_type": "code",
   "execution_count": 7,
   "metadata": {},
   "outputs": [
    {
     "data": {
      "text/plain": [
       "[-2.23606797749979, -0.447213595499958, 0.447213595499958, 2.23606797749979]"
      ]
     },
     "execution_count": 7,
     "metadata": {},
     "output_type": "execute_result"
    }
   ],
   "source": [
    "ExactAnswer1 = solve(f1(x),x)\n",
    "ExactAnswer1"
   ]
  },
  {
   "cell_type": "code",
   "execution_count": 8,
   "metadata": {},
   "outputs": [
    {
     "data": {
      "image/png": "[encoded data removed]",
      "text/plain": [
       "<matplotlib.figure.Figure at 0x2cf77245898>"
      ]
     },
     "metadata": {},
     "output_type": "display_data"
    }
   ],
   "source": [
    "X = np.arange(a1, b1, 0.01)\n",
    "\n",
    "fig = plt.figure() \n",
    "plt.plot(X, f1(X))\n",
    "plt.show() "
   ]
  },
  {
   "cell_type": "code",
   "execution_count": 9,
   "metadata": {},
   "outputs": [
    {
     "name": "stdout",
     "output_type": "stream",
     "text": [
      "(0.447213595485664, 36) (2.2360679774865275, 36)\n"
     ]
    }
   ],
   "source": [
    "# Из графика поулчаем что отрезко локализации, например [0;1] и [2;3]\n",
    "x11 = BisecMethod(f1,0,1,0.1*epselon1)\n",
    "x12 = BisecMethod(f1,2,3,0.1*epselon1)\n",
    "print(x11, x12)"
   ]
  },
  {
   "cell_type": "code",
   "execution_count": 10,
   "metadata": {
    "scrolled": true
   },
   "outputs": [
    {
     "data": {
      "image/png": "[encoded data removed]",
      "text/plain": [
       "<matplotlib.figure.Figure at 0x2cf779ac5f8>"
      ]
     },
     "metadata": {},
     "output_type": "display_data"
    }
   ],
   "source": [
    "fig = plt.figure()\n",
    "plt.plot(X, g1(X))\n",
    "plt.show()"
   ]
  },
  {
   "cell_type": "code",
   "execution_count": 11,
   "metadata": {},
   "outputs": [
    {
     "data": {
      "text/plain": [
       "[-sqrt(5), sqrt(5)]"
      ]
     },
     "execution_count": 11,
     "metadata": {},
     "output_type": "execute_result"
    }
   ],
   "source": [
    "ExactAnswer12 = solve(g1(x),x)\n",
    "ExactAnswer12"
   ]
  },
  {
   "cell_type": "code",
   "execution_count": 12,
   "metadata": {},
   "outputs": [
    {
     "data": {
      "image/png": "[encoded data removed]",
      "text/plain": [
       "<matplotlib.figure.Figure at 0x2cf77a7d8d0>"
      ]
     },
     "metadata": {},
     "output_type": "display_data"
    }
   ],
   "source": [
    "X = np.arange(0, 2,0.1)\n",
    "fig = plt.figure()\n",
    "plt.plot(X, f2(X))\n",
    "plt.show()"
   ]
  },
  {
   "cell_type": "code",
   "execution_count": 13,
   "metadata": {
    "scrolled": true
   },
   "outputs": [
    {
     "name": "stdout",
     "output_type": "stream",
     "text": [
      "(0.64171437087289618, 3)\n",
      "(0.6417140960693359, 19)\n"
     ]
    }
   ],
   "source": [
    "print(NewtoonMethod(f2,0.75,epselon2))\n",
    "print(BisecMethod(f2,0,1,epselon2))"
   ]
  },
  {
   "cell_type": "code",
   "execution_count": 14,
   "metadata": {},
   "outputs": [
    {
     "data": {
      "image/png": "[encoded data removed]",
      "text/plain": [
       "<matplotlib.figure.Figure at 0x2cf77c033c8>"
      ]
     },
     "metadata": {},
     "output_type": "display_data"
    }
   ],
   "source": [
    "X = np.arange(0.1, 1, 0.01)\n",
    "\n",
    "fig = plt.figure() \n",
    "plt.plot(X, f3(X))\n",
    "plt.show() "
   ]
  },
  {
   "cell_type": "code",
   "execution_count": 18,
   "metadata": {
    "collapsed": true
   },
   "outputs": [],
   "source": [
    "# Отрезок локализации\n",
    "a3 = .6\n",
    "b3 = .7"
   ]
  },
  {
   "cell_type": "code",
   "execution_count": 17,
   "metadata": {},
   "outputs": [
    {
     "data": {
      "text/plain": [
       "x - 2.71828182845905**(-x**2)"
      ]
     },
     "execution_count": 17,
     "metadata": {},
     "output_type": "execute_result"
    }
   ],
   "source": [
    "f3(x)"
   ]
  },
  {
   "cell_type": "code",
   "execution_count": 22,
   "metadata": {
    "collapsed": true
   },
   "outputs": [],
   "source": [
    "# Определим константы m и M из графика производной\n",
    "# Производную нашли ручками -  у нас же не лапки\n",
    "def ff3(x):\n",
    "    return 1 + 2*x*np.e**(-x**2)"
   ]
  },
  {
   "cell_type": "code",
   "execution_count": 27,
   "metadata": {},
   "outputs": [
    {
     "data": {
      "image/png": "[encoded data removed]",
      "text/plain": [
       "<matplotlib.figure.Figure at 0x2cf78626198>"
      ]
     },
     "metadata": {},
     "output_type": "display_data"
    }
   ],
   "source": [
    "X = np.arange(a3, b3, 0.01)\n",
    "\n",
    "fig = plt.figure() \n",
    "plt.plot(X, ff3(X))\n",
    "plt.show() "
   ]
  },
  {
   "cell_type": "code",
   "execution_count": 31,
   "metadata": {
    "collapsed": true
   },
   "outputs": [],
   "source": [
    "# Следовательно для m и M берем значение производной в начале и конце отрезка соответсвенно\n",
    "m = ff3(a3)\n",
    "M = ff3(b3)\n",
    "# Определим q\n",
    "q = (M-m)/(M+m)\n",
    "# Определим функцию phi\n",
    "def phi(x,f):\n",
    "    return x - 2/(M+m)*f(x)"
   ]
  },
  {
   "cell_type": "code",
   "execution_count": 37,
   "metadata": {},
   "outputs": [
    {
     "data": {
      "text/plain": [
       "(0.6529186597988018, 0.005538830287837204, 3)"
      ]
     },
     "execution_count": 37,
     "metadata": {},
     "output_type": "execute_result"
    }
   ],
   "source": [
    "SimpleIterationMethod(phi,f3,a3+b3/2,q,epselon3)"
   ]
  },
  {
   "cell_type": "code",
   "execution_count": 39,
   "metadata": {
    "collapsed": true
   },
   "outputs": [],
   "source": [
    "# Сделаем из метода простой итерации метод Ньютона - потому что все любят Ньютона\n",
    "\n",
    "def gamma(x,f):\n",
    "    return x - f(x)/derivative(f,x,dx = 10**(-5))\n",
    "\n",
    "def Gamma(x):\n",
    "    return (-np.e**(-(x)**2)+x)*(2*np.e**(-x**2)-4*x**2*np.e**(-x**2))/(1+2*x*np.e**(-x**2))**2"
   ]
  },
  {
   "cell_type": "code",
   "execution_count": 41,
   "metadata": {},
   "outputs": [
    {
     "data": {
      "image/png": "[encoded data removed]",
      "text/plain": [
       "<matplotlib.figure.Figure at 0x2cf781425c0>"
      ]
     },
     "metadata": {},
     "output_type": "display_data"
    }
   ],
   "source": [
    "X = np.arange(a3, b3, 0.01)\n",
    "\n",
    "fig = plt.figure() \n",
    "plt.plot(X, abs(Gamma(X)))\n",
    "plt.show() "
   ]
  },
  {
   "cell_type": "code",
   "execution_count": 42,
   "metadata": {
    "collapsed": true
   },
   "outputs": [],
   "source": [
    "# Следовательно Q равен значению гамма в начале отрезка\n",
    "Q = abs(Gamma(a3))"
   ]
  },
  {
   "cell_type": "code",
   "execution_count": 43,
   "metadata": {},
   "outputs": [
    {
     "data": {
      "text/plain": [
       "(0.6529186404213283, 0.011306103997355802, 3)"
      ]
     },
     "execution_count": 43,
     "metadata": {},
     "output_type": "execute_result"
    }
   ],
   "source": [
    "SimpleIterationMethod(gamma,f3,a3+b3/2,Q,epselon3)"
   ]
  },
  {
   "cell_type": "code",
   "execution_count": 44,
   "metadata": {},
   "outputs": [
    {
     "data": {
      "text/plain": [
       "(0.6529186404213283, 3)"
      ]
     },
     "execution_count": 44,
     "metadata": {},
     "output_type": "execute_result"
    }
   ],
   "source": [
    "NewtoonMethod(f3,a3+b3/2,epselon3)"
   ]
  },
  {
   "cell_type": "code",
   "execution_count": null,
   "metadata": {
    "collapsed": true
   },
   "outputs": [],
   "source": []
  }
 ],
 "metadata": {
  "kernelspec": {
   "display_name": "Python 3",
   "language": "python",
   "name": "python3"
  },
  "language_info": {
   "codemirror_mode": {
    "name": "ipython",
    "version": 3
   },
   "file_extension": ".py",
   "mimetype": "text/x-python",
   "name": "python",
   "nbconvert_exporter": "python",
   "pygments_lexer": "ipython3",
   "version": "3.6.3"
  }
 },
 "nbformat": 4,
 "nbformat_minor": 2
}
